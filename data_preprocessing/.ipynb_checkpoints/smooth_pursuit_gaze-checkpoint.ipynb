{
 "cells": [
  {
   "cell_type": "code",
   "execution_count": 2,
   "metadata": {},
   "outputs": [
    {
     "data": {
      "text/html": [
       "<div>\n",
       "<style scoped>\n",
       "    .dataframe tbody tr th:only-of-type {\n",
       "        vertical-align: middle;\n",
       "    }\n",
       "\n",
       "    .dataframe tbody tr th {\n",
       "        vertical-align: top;\n",
       "    }\n",
       "\n",
       "    .dataframe thead th {\n",
       "        text-align: right;\n",
       "    }\n",
       "</style>\n",
       "<table border=\"1\" class=\"dataframe\">\n",
       "  <thead>\n",
       "    <tr style=\"text-align: right;\">\n",
       "      <th></th>\n",
       "      <th>X</th>\n",
       "      <th>Y</th>\n",
       "      <th>Tracker_Time</th>\n",
       "      <th>Time</th>\n",
       "      <th>Participant_Nr</th>\n",
       "    </tr>\n",
       "  </thead>\n",
       "  <tbody>\n",
       "    <tr>\n",
       "      <th>0</th>\n",
       "      <td>719.5</td>\n",
       "      <td>464.5</td>\n",
       "      <td>557179</td>\n",
       "      <td>1.643103e+12</td>\n",
       "      <td>1</td>\n",
       "    </tr>\n",
       "    <tr>\n",
       "      <th>1</th>\n",
       "      <td>719.4</td>\n",
       "      <td>464.3</td>\n",
       "      <td>557181</td>\n",
       "      <td>1.643103e+12</td>\n",
       "      <td>1</td>\n",
       "    </tr>\n",
       "    <tr>\n",
       "      <th>2</th>\n",
       "      <td>719.4</td>\n",
       "      <td>464.1</td>\n",
       "      <td>557183</td>\n",
       "      <td>1.643103e+12</td>\n",
       "      <td>1</td>\n",
       "    </tr>\n",
       "    <tr>\n",
       "      <th>3</th>\n",
       "      <td>719.7</td>\n",
       "      <td>463.9</td>\n",
       "      <td>557185</td>\n",
       "      <td>1.643103e+12</td>\n",
       "      <td>1</td>\n",
       "    </tr>\n",
       "    <tr>\n",
       "      <th>4</th>\n",
       "      <td>719.9</td>\n",
       "      <td>463.9</td>\n",
       "      <td>557187</td>\n",
       "      <td>1.643103e+12</td>\n",
       "      <td>1</td>\n",
       "    </tr>\n",
       "    <tr>\n",
       "      <th>...</th>\n",
       "      <td>...</td>\n",
       "      <td>...</td>\n",
       "      <td>...</td>\n",
       "      <td>...</td>\n",
       "      <td>...</td>\n",
       "    </tr>\n",
       "    <tr>\n",
       "      <th>14125138</th>\n",
       "      <td>821.4</td>\n",
       "      <td>453.5</td>\n",
       "      <td>2116863</td>\n",
       "      <td>1.652195e+12</td>\n",
       "      <td>17</td>\n",
       "    </tr>\n",
       "    <tr>\n",
       "      <th>14125139</th>\n",
       "      <td>820.7</td>\n",
       "      <td>455.3</td>\n",
       "      <td>2116865</td>\n",
       "      <td>1.652195e+12</td>\n",
       "      <td>17</td>\n",
       "    </tr>\n",
       "    <tr>\n",
       "      <th>14125140</th>\n",
       "      <td>820.3</td>\n",
       "      <td>456.9</td>\n",
       "      <td>2116867</td>\n",
       "      <td>1.652195e+12</td>\n",
       "      <td>17</td>\n",
       "    </tr>\n",
       "    <tr>\n",
       "      <th>14125141</th>\n",
       "      <td>820.1</td>\n",
       "      <td>458.2</td>\n",
       "      <td>2116869</td>\n",
       "      <td>1.652195e+12</td>\n",
       "      <td>17</td>\n",
       "    </tr>\n",
       "    <tr>\n",
       "      <th>14125142</th>\n",
       "      <td>798.1</td>\n",
       "      <td>506.8</td>\n",
       "      <td>2117021</td>\n",
       "      <td>1.652195e+12</td>\n",
       "      <td>17</td>\n",
       "    </tr>\n",
       "  </tbody>\n",
       "</table>\n",
       "<p>14125143 rows × 5 columns</p>\n",
       "</div>"
      ],
      "text/plain": [
       "              X      Y  Tracker_Time          Time  Participant_Nr\n",
       "0         719.5  464.5        557179  1.643103e+12               1\n",
       "1         719.4  464.3        557181  1.643103e+12               1\n",
       "2         719.4  464.1        557183  1.643103e+12               1\n",
       "3         719.7  463.9        557185  1.643103e+12               1\n",
       "4         719.9  463.9        557187  1.643103e+12               1\n",
       "...         ...    ...           ...           ...             ...\n",
       "14125138  821.4  453.5       2116863  1.652195e+12              17\n",
       "14125139  820.7  455.3       2116865  1.652195e+12              17\n",
       "14125140  820.3  456.9       2116867  1.652195e+12              17\n",
       "14125141  820.1  458.2       2116869  1.652195e+12              17\n",
       "14125142  798.1  506.8       2117021  1.652195e+12              17\n",
       "\n",
       "[14125143 rows x 5 columns]"
      ]
     },
     "execution_count": 2,
     "metadata": {},
     "output_type": "execute_result"
    }
   ],
   "source": [
    "# Import many dataFrame for the Algorithm Comparison:\n",
    "import pandas as pd\n",
    "import numpy as np\n",
    "import matplotlib.pyplot as plt\n",
    "from matplotlib.pyplot import cm\n",
    "from matplotlib.lines import Line2D\n",
    "from scipy import stats\n",
    "import glob\n",
    "import os\n",
    "# pd.set_option('display.max_rows', 500)\n",
    "from scipy.stats import gaussian_kde\n",
    "from scipy.stats import sem\n",
    "import seaborn as sns\n",
    "from scipy.stats.mstats import winsorize\n",
    "\n",
    "### Import our libraries\n",
    "# some_file.py\n",
    "import sys\n",
    "# insert at 1, 0 is the script path (or '' in REPL)\n",
    "sys.path.insert(1, '../data_preprocessing/')\n",
    "import fixation_plots as plots\n",
    "from utility import utilitiesCalc\n",
    "import interpolationET as inter\n",
    "\n",
    "counter = 18\n",
    "lb_data = []\n",
    "el_data = []\n",
    "trial_data = []\n",
    "targets_data = []\n",
    "subject = 0\n",
    "targets_data = []\n",
    "all_target = pd.DataFrame()\n",
    "\n",
    "## Extracting Gaze Data\n",
    "\n",
    "subject = 0\n",
    "for i in range(1,counter):\n",
    "    df_temp = pd.read_csv(\"../data/el_data/p\" + str(i) + '.csv', engine='python')\n",
    "\n",
    "    subject = subject + 1\n",
    "    df_temp = utilitiesCalc.addParticipantNumberCol(subject, df_temp)\n",
    "    el_data.append(df_temp)\n",
    "el_gaze = pd.concat(el_data, axis=0, ignore_index=True)\n",
    "el_gaze"
   ]
  },
  {
   "cell_type": "code",
   "execution_count": 3,
   "metadata": {},
   "outputs": [],
   "source": [
    "# Extracting Blink Data\n",
    "el_blinks = pd.DataFrame()\n",
    "el_blnk = []\n",
    "s_gaze = 0\n",
    "for i in range(1,counter):\n",
    "    blinks_temp = pd.read_csv(\"../data/el_data/el_events/blinks/p\" + str(i) + '_events.csv', engine='python')\n",
    "#     blinks_temp = pd.read_csv(\"../data/el_data/el_events/blinks/p1_events.csv\", engine='python')\n",
    "    s_gaze = s_gaze + 1\n",
    "    blinks_temp = utilitiesCalc.addParticipantNumberCol(s_gaze, blinks_temp)\n",
    "    el_blnk.append(blinks_temp)\n",
    "el_blinks = pd.concat(el_blnk, axis=0, ignore_index=True)"
   ]
  },
  {
   "cell_type": "code",
   "execution_count": 4,
   "metadata": {},
   "outputs": [],
   "source": [
    "blinks = []\n",
    "df_blinks = pd.DataFrame()\n",
    "for index, row in el_blinks.iterrows():\n",
    "    blink_offset = row['End'] # End of the blinks\n",
    "    blink_onset = row['Start']\n",
    "    within_blinks = el_gaze.loc[(el_gaze.Time <= blink_offset) & (el_gaze.Time >= blink_onset)]\n",
    "    blinks.append(within_blinks)\n",
    "df_blinks = pd.concat(blinks, axis=0, ignore_index=False)\n",
    "el_gaze.drop(df_blinks.index, inplace=True)"
   ]
  },
  {
   "cell_type": "code",
   "execution_count": 5,
   "metadata": {},
   "outputs": [],
   "source": [
    "# for i in range(1,counter):\n",
    "#     df_temp = pd.read_csv(\"../data/lb_data/trial_data/p\" + str(i) + '_trials.csv', engine='python')\n",
    "#     df_temp = utilitiesCalc.addParticipantNumberCol(subject, df_temp)\n",
    "#     trial_data.append(df_temp)\n",
    "# all_trials = pd.concat(trial_data, axis=0, ignore_index=True)\n",
    "# all_trials = all_trials[all_trials['Task_Name'] == \"smooth_pursuit\"] "
   ]
  },
  {
   "cell_type": "code",
   "execution_count": 6,
   "metadata": {},
   "outputs": [],
   "source": [
    "for i in range(1,counter):\n",
    "    df_temp = pd.read_csv(\"../data/lb_data/timeseries_data/p\" + str(i) + '_XYTC.csv', engine='python')\n",
    "    df_temp = utilitiesCalc.addParticipantNumberCol(subject, df_temp)\n",
    "    df_temp = inter.formating_labvanced (df_temp)\n",
    "    df_temp = df_temp[df_temp['Task_Name'] == \"smooth_pursuit\"]\n",
    "    lb_data.append(df_temp)\n",
    "lb_gaze = pd.concat(lb_data, axis=0, ignore_index=True)\n",
    "lb_gaze = lb_gaze[lb_gaze['Task_Name'] == \"smooth_pursuit\"]"
   ]
  },
  {
   "cell_type": "code",
   "execution_count": 7,
   "metadata": {},
   "outputs": [],
   "source": [
    "blinks = []\n",
    "df_blinks_lb = pd.DataFrame()\n",
    "for index, row in el_blinks.iterrows():\n",
    "    blink_offset = row['End'] # End of the blinks\n",
    "    blink_onset = row['Start']\n",
    "    within_blinks = lb_gaze.loc[(lb_gaze.time_lb <= blink_offset) & (lb_gaze.time_lb >= blink_onset)]\n",
    "#     print(within_blinks)\n",
    "    blinks.append(within_blinks)\n",
    "df_blinks_lb = pd.concat(blinks, axis=0, ignore_index=False)\n",
    "lb_gaze.drop(df_blinks_lb.index, inplace=True)"
   ]
  },
  {
   "cell_type": "code",
   "execution_count": 8,
   "metadata": {},
   "outputs": [],
   "source": [
    "# for i in range(1,counter):\n",
    "#     df_temp = pd.read_csv(\"../data/lb_data/target_loc_data/p\" + str(i) + '_XYVA.csv', engine='python')\n",
    "#     df_temp = utilitiesCalc.addParticipantNumberCol(subject, df_temp)\n",
    "#     df_temp = inter.formating_target(df_temp)\n",
    "#     targets_data.append(df_temp)\n",
    "# all_targets = pd.concat(targets_data, axis=0, ignore_index=True)\n",
    "# all_targets = all_targets[all_targets['Task_Name'] == \"smooth_pursuit\"]\n",
    "# all_targets.Participant_Nr.unique()"
   ]
  },
  {
   "cell_type": "code",
   "execution_count": 9,
   "metadata": {},
   "outputs": [],
   "source": [
    "lb = lb_gaze.set_index('time_lb')"
   ]
  },
  {
   "cell_type": "code",
   "execution_count": 10,
   "metadata": {},
   "outputs": [],
   "source": [
    "# el = formating_eyelink (el_gaze)\n",
    "el_gaze.head()\n",
    "el = el_gaze.rename(columns={'X':'X_el','Y':'Y_el','Time':'t'})"
   ]
  },
  {
   "cell_type": "code",
   "execution_count": 11,
   "metadata": {},
   "outputs": [],
   "source": [
    "el.to_csv('../data/el_data/smooth_pursuit/smooth_pursuit.csv', index = False)\n",
    "lb.to_csv('../data/lb_data/smooth_pursuit/smooth_pursuit.csv', index = False)"
   ]
  },
  {
   "cell_type": "code",
   "execution_count": 12,
   "metadata": {},
   "outputs": [],
   "source": [
    "el = el.set_index('t')"
   ]
  },
  {
   "cell_type": "code",
   "execution_count": null,
   "metadata": {},
   "outputs": [],
   "source": [
    "def interpolation ():\n",
    "# Interpolate data\n",
    "\n",
    "    df_temp = pd.concat([el, lb .index.to_frame()]).sort_index().interpolate()\n",
    "\n",
    "    df_temp = df_temp[~df_temp.index.duplicated(keep='first')]\n",
    "    df_interpolated = lb .merge(df_temp, left_index=True, right_index=True, how='left')\n",
    "\n",
    "    df_interpolated = df_interpolated.drop(columns=['time_lb'])\n",
    "    df_interpolated = df_interpolated.reset_index()\n",
    "\n",
    "#     df_interpolated .Y_el = df_interpolated.Y_el.astype(int)\n",
    "#     df_interpolated .X_el = df_interpolated.X_el.astype(int)\n",
    "    return df_interpolated\n",
    "df_interpolated = interpolation()"
   ]
  },
  {
   "cell_type": "code",
   "execution_count": null,
   "metadata": {},
   "outputs": [],
   "source": [
    "df_interpolated.to_csv('../data/el_data/smooth_pursuit.csv', index = False)"
   ]
  },
  {
   "cell_type": "code",
   "execution_count": null,
   "metadata": {},
   "outputs": [],
   "source": []
  },
  {
   "cell_type": "code",
   "execution_count": null,
   "metadata": {},
   "outputs": [],
   "source": [
    "all_targets.set_index('timestamp')"
   ]
  },
  {
   "cell_type": "code",
   "execution_count": null,
   "metadata": {},
   "outputs": [],
   "source": [
    "all_targets.Participant_Nr.unique()"
   ]
  },
  {
   "cell_type": "code",
   "execution_count": null,
   "metadata": {},
   "outputs": [],
   "source": [
    "df_interpolated.isnull().sum()"
   ]
  },
  {
   "cell_type": "code",
   "execution_count": null,
   "metadata": {},
   "outputs": [],
   "source": [
    "df_interpolated.set_index('time_lb')"
   ]
  },
  {
   "cell_type": "code",
   "execution_count": null,
   "metadata": {},
   "outputs": [],
   "source": [
    "df_lb_temp = pd.concat([all_targets, df_interpolated .index.to_frame()]).sort_index().interpolate()"
   ]
  },
  {
   "cell_type": "code",
   "execution_count": null,
   "metadata": {},
   "outputs": [],
   "source": [
    "df_lb_temp = df_lb_temp[~df_lb_temp.index.duplicated(keep='first')]\n",
    "df_targets_interpolated = df_interpolated .merge(df_lb_temp, left_index=True, right_index=True, how='left')"
   ]
  },
  {
   "cell_type": "code",
   "execution_count": null,
   "metadata": {},
   "outputs": [],
   "source": [
    "# df_targets_interpolated = df_targets_interpolated.drop(columns=['time_lb'])\n",
    "df_targets_interpolated = df_targets_interpolated.reset_index()"
   ]
  },
  {
   "cell_type": "code",
   "execution_count": null,
   "metadata": {},
   "outputs": [],
   "source": [
    "df_targets_interpolated.isnull().sum()\n"
   ]
  },
  {
   "cell_type": "code",
   "execution_count": null,
   "metadata": {},
   "outputs": [],
   "source": [
    "df_targets_interpolated.dropna(subset=['X_target'], how='all', inplace=True)\n",
    "df_targets_interpolated.dropna(subset=['Y_target'], how='all', inplace=True)\n",
    "df_targets_interpolated.dropna(subset=['V'], how='all', inplace=True)"
   ]
  },
  {
   "cell_type": "code",
   "execution_count": null,
   "metadata": {},
   "outputs": [],
   "source": [
    "df_targets_interpolated = df_targets_interpolated[['Trial_Nr_x','time_lb','X_lb','Y_lb','c','X_el','Y_el','X_target','Y_target','V','Participant_Nr_x']]"
   ]
  },
  {
   "cell_type": "code",
   "execution_count": null,
   "metadata": {},
   "outputs": [],
   "source": [
    "df_targets_interpolated.Participant_Nr_x.unique()"
   ]
  },
  {
   "cell_type": "code",
   "execution_count": null,
   "metadata": {},
   "outputs": [],
   "source": [
    "df_targets_interpolated = df_targets_interpolated.rename(columns={'Trial_Nr_x':'Trial_Nr','c':'C_lb','V':'V_Target','Participant_Nr_x':'Participant_Nr'})"
   ]
  },
  {
   "cell_type": "code",
   "execution_count": null,
   "metadata": {},
   "outputs": [],
   "source": [
    "df_targets_interpolated.to_csv('../data/smooth_pursuit_interpolated/smooth_pursuit_inter.csv', index = False)"
   ]
  },
  {
   "cell_type": "code",
   "execution_count": null,
   "metadata": {},
   "outputs": [],
   "source": [
    "df_targets_interpolated"
   ]
  },
  {
   "cell_type": "code",
   "execution_count": null,
   "metadata": {},
   "outputs": [],
   "source": [
    "el_blinks.head()"
   ]
  },
  {
   "cell_type": "code",
   "execution_count": null,
   "metadata": {},
   "outputs": [],
   "source": [
    "df_targets_interpolated"
   ]
  },
  {
   "cell_type": "code",
   "execution_count": 1,
   "metadata": {},
   "outputs": [
    {
     "ename": "NameError",
     "evalue": "name 'df_targets_interpolated' is not defined",
     "output_type": "error",
     "traceback": [
      "\u001b[0;31m---------------------------------------------------------------------------\u001b[0m",
      "\u001b[0;31mNameError\u001b[0m                                 Traceback (most recent call last)",
      "\u001b[0;32m<ipython-input-1-078393b5d27d>\u001b[0m in \u001b[0;36m<module>\u001b[0;34m\u001b[0m\n\u001b[0;32m----> 1\u001b[0;31m \u001b[0mdf_targets_interpolated\u001b[0m\u001b[0;34m.\u001b[0m\u001b[0mto_csv\u001b[0m\u001b[0;34m(\u001b[0m\u001b[0;34m'../data/smooth_pursuit_interpolated/smooth_pursuit_inter.csv'\u001b[0m\u001b[0;34m,\u001b[0m \u001b[0mindex\u001b[0m \u001b[0;34m=\u001b[0m \u001b[0;32mFalse\u001b[0m\u001b[0;34m)\u001b[0m\u001b[0;34m\u001b[0m\u001b[0;34m\u001b[0m\u001b[0m\n\u001b[0m",
      "\u001b[0;31mNameError\u001b[0m: name 'df_targets_interpolated' is not defined"
     ]
    }
   ],
   "source": []
  },
  {
   "cell_type": "code",
   "execution_count": null,
   "metadata": {},
   "outputs": [],
   "source": []
  }
 ],
 "metadata": {
  "kernelspec": {
   "display_name": "Python 3",
   "language": "python",
   "name": "python3"
  },
  "language_info": {
   "codemirror_mode": {
    "name": "ipython",
    "version": 3
   },
   "file_extension": ".py",
   "mimetype": "text/x-python",
   "name": "python",
   "nbconvert_exporter": "python",
   "pygments_lexer": "ipython3",
   "version": "3.8.10"
  }
 },
 "nbformat": 4,
 "nbformat_minor": 4
}
