{
 "cells": [
  {
   "cell_type": "code",
   "execution_count": 1,
   "metadata": {},
   "outputs": [
    {
     "ename": "SyntaxError",
     "evalue": "invalid syntax (<ipython-input-1-d98739fa7921>, line 22)",
     "output_type": "error",
     "traceback": [
      "\u001b[0;36m  File \u001b[0;32m\"<ipython-input-1-d98739fa7921>\"\u001b[0;36m, line \u001b[0;32m22\u001b[0m\n\u001b[0;31m    def resampleData(lb)\u001b[0m\n\u001b[0m                        ^\u001b[0m\n\u001b[0;31mSyntaxError\u001b[0m\u001b[0;31m:\u001b[0m invalid syntax\n"
     ]
    }
   ],
   "source": [
    "# Import libraries\n",
    "import pandas as pd\n",
    "import numpy as np\n",
    "import matplotlib.pyplot as plt\n",
    "from matplotlib.pyplot import cm\n",
    "import statistics as stat\n",
    "from scipy import stats\n",
    "import glob\n",
    "import os\n",
    "import pandas as pd\n",
    "from datetime import datetime\n",
    "from scipy import signal\n",
    "from numpy.random import default_rng\n",
    "from scipy.signal import correlate\n",
    "\n",
    "\n",
    "import seaborn as sns\n",
    "import scipy.stats as stats\n",
    "sns.set_context('talk',font_scale=.8)\n",
    "\n",
    "# Resampling Labvanced Data\n",
    "def resampleData(lb):\n",
    "    # 1.Resample data to 500Hz to have equal sample size\n",
    "    # First to use resmaple function I have to change the unix timestamp (int) to datatime format\n",
    "    lb['time_lb'] = pd.to_datetime(lb[\"time_lb\"], unit='ms')\n",
    "    # Then change index to converted column and use the function using mean value to resample from 30hz up to 500hz\n",
    "    lb = lb.set_index('time_lb')\n",
    "    # 500hz is 2ms\n",
    "    lb = lb.resample('33ms').interpolate()\n",
    "    # Reconvert from datatime to unix timestamp\n",
    "    lb.index = lb.index.astype('int64') // 10** 6\n",
    "    \n",
    "    return lb\n",
    "# Take inteporlated data because we need data with equal index size and same sampling rate\n",
    "# As a another argument we pass the array with Lags\n",
    "def createLagSygCorrelation(df_interpolated):\n",
    "    # Use numpy build in function for the cross correlation\n",
    "    correlation = signal.correlate(df_interpolated.Y_el,df_interpolated.Y_lb,mode='same')\n",
    "    # create a variable for the lag of the selected participant\n",
    "    delay = np.argmax(correlation)-int(len(correlation)/2)\n",
    "    # return delay value\n",
    "    return delay\n",
    "    \n",
    "\n"
   ]
  },
  {
   "cell_type": "code",
   "execution_count": null,
   "metadata": {},
   "outputs": [],
   "source": []
  },
  {
   "cell_type": "code",
   "execution_count": null,
   "metadata": {},
   "outputs": [],
   "source": []
  }
 ],
 "metadata": {
  "kernelspec": {
   "display_name": "Python 3",
   "language": "python",
   "name": "python3"
  },
  "language_info": {
   "codemirror_mode": {
    "name": "ipython",
    "version": 3
   },
   "file_extension": ".py",
   "mimetype": "text/x-python",
   "name": "python",
   "nbconvert_exporter": "python",
   "pygments_lexer": "ipython3",
   "version": "3.8.10"
  }
 },
 "nbformat": 4,
 "nbformat_minor": 4
}
