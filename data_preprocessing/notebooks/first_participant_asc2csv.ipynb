{
 "cells": [
  {
   "cell_type": "code",
   "execution_count": 5,
   "metadata": {},
   "outputs": [],
   "source": [
    "import os\n",
    "import time\n",
    "import numpy as np\n",
    "import pandas as pd\n",
    "import matplotlib.pyplot as plt\n",
    "from matplotlib.patches import Circle"
   ]
  },
  {
   "cell_type": "code",
   "execution_count": 6,
   "metadata": {},
   "outputs": [],
   "source": [
    "# Import PyGaze library to encode EDF eyelink raw data format\n",
    "import sys\n",
    "sys.path.append('../../PyGazeAnalyser-master/pygazeanalyser')\n",
    "from edfreader import read_edf"
   ]
  },
  {
   "cell_type": "code",
   "execution_count": 7,
   "metadata": {},
   "outputs": [
    {
     "name": "stdout",
     "output_type": "stream",
     "text": [
      "p1\n"
     ]
    }
   ],
   "source": [
    "dataName = input()\n",
    "data = '../../ascData/'+ dataName + '.asc'"
   ]
  },
  {
   "cell_type": "code",
   "execution_count": 8,
   "metadata": {},
   "outputs": [
    {
     "ename": "Exception",
     "evalue": "Error in read_edf: file '../../ascData/p1.asc' does not exist",
     "output_type": "error",
     "traceback": [
      "\u001b[0;31m---------------------------------------------------------------------------\u001b[0m",
      "\u001b[0;31mException\u001b[0m                                 Traceback (most recent call last)",
      "\u001b[0;32m<ipython-input-8-6a53a8c479d6>\u001b[0m in \u001b[0;36m<module>\u001b[0;34m\u001b[0m\n\u001b[0;32m----> 1\u001b[0;31m \u001b[0mdata_raw\u001b[0m \u001b[0;34m=\u001b[0m \u001b[0mread_edf\u001b[0m\u001b[0;34m(\u001b[0m\u001b[0mdata\u001b[0m\u001b[0;34m,\u001b[0m \u001b[0;34m'START'\u001b[0m\u001b[0;34m,\u001b[0m \u001b[0mmissing\u001b[0m\u001b[0;34m=\u001b[0m\u001b[0;36m0.0\u001b[0m\u001b[0;34m,\u001b[0m \u001b[0mdebug\u001b[0m\u001b[0;34m=\u001b[0m\u001b[0;32mTrue\u001b[0m\u001b[0;34m)\u001b[0m\u001b[0;34m\u001b[0m\u001b[0;34m\u001b[0m\u001b[0m\n\u001b[0m\u001b[1;32m      2\u001b[0m \u001b[0mtype\u001b[0m\u001b[0;34m(\u001b[0m\u001b[0mdata_raw\u001b[0m\u001b[0;34m)\u001b[0m\u001b[0;34m,\u001b[0m \u001b[0mlen\u001b[0m\u001b[0;34m(\u001b[0m\u001b[0mdata_raw\u001b[0m\u001b[0;34m)\u001b[0m\u001b[0;34m,\u001b[0m \u001b[0mtype\u001b[0m\u001b[0;34m(\u001b[0m\u001b[0mdata_raw\u001b[0m\u001b[0;34m[\u001b[0m\u001b[0;36m0\u001b[0m\u001b[0;34m]\u001b[0m\u001b[0;34m)\u001b[0m\u001b[0;34m,\u001b[0m \u001b[0mdata_raw\u001b[0m\u001b[0;34m[\u001b[0m\u001b[0;36m0\u001b[0m\u001b[0;34m]\u001b[0m\u001b[0;34m.\u001b[0m\u001b[0mkeys\u001b[0m\u001b[0;34m(\u001b[0m\u001b[0;34m)\u001b[0m\u001b[0;34m\u001b[0m\u001b[0;34m\u001b[0m\u001b[0m\n",
      "\u001b[0;32m~/Desktop/online_et/data_preprocessing/notebooks/../../PyGazeAnalyser-master/pygazeanalyser/edfreader.py\u001b[0m in \u001b[0;36mread_edf\u001b[0;34m(filename, start, stop, missing, debug)\u001b[0m\n\u001b[1;32m    104\u001b[0m         \u001b[0;31m# raise exception if the file does not exist\u001b[0m\u001b[0;34m\u001b[0m\u001b[0;34m\u001b[0m\u001b[0;34m\u001b[0m\u001b[0m\n\u001b[1;32m    105\u001b[0m         \u001b[0;32melse\u001b[0m\u001b[0;34m:\u001b[0m\u001b[0;34m\u001b[0m\u001b[0;34m\u001b[0m\u001b[0m\n\u001b[0;32m--> 106\u001b[0;31m                 \u001b[0;32mraise\u001b[0m \u001b[0mException\u001b[0m\u001b[0;34m(\u001b[0m\u001b[0;34m\"Error in read_edf: file '%s' does not exist\"\u001b[0m \u001b[0;34m%\u001b[0m \u001b[0mfilename\u001b[0m\u001b[0;34m)\u001b[0m\u001b[0;34m\u001b[0m\u001b[0;34m\u001b[0m\u001b[0m\n\u001b[0m\u001b[1;32m    107\u001b[0m \u001b[0;34m\u001b[0m\u001b[0m\n\u001b[1;32m    108\u001b[0m         \u001b[0;31m# read file contents\u001b[0m\u001b[0;34m\u001b[0m\u001b[0;34m\u001b[0m\u001b[0;34m\u001b[0m\u001b[0m\n",
      "\u001b[0;31mException\u001b[0m: Error in read_edf: file '../../ascData/p1.asc' does not exist"
     ]
    }
   ],
   "source": [
    "data_raw = read_edf(data, 'START', missing=0.0, debug=True)\n",
    "type(data_raw), len(data_raw), type(data_raw[0]), data_raw[0].keys()"
   ]
  },
  {
   "cell_type": "code",
   "execution_count": null,
   "metadata": {},
   "outputs": [],
   "source": [
    "df = pd.DataFrame(columns = ['Trial', 'X', 'Y', 'Start', 'End'])\n",
    "for i in range(len(data_raw)):\n",
    "    trial = i+1\n",
    "    for j in range(len(data_raw[i]['events']['Efix'])):\n",
    "        row = {'Trial':int(i), 'X':0, 'Y':0, 'Start':0, 'End':0}\n",
    "        \n",
    "        X = data_raw[i]['events']['Efix'][j][3]\n",
    "        Y = data_raw[i]['events']['Efix'][j][4]\n",
    "        start = data_raw[i]['events']['Efix'][j][0]\n",
    "        end = data_raw[i]['events']['Efix'][j][1]\n",
    "        \n",
    "        row['X'] = X\n",
    "        row['Y'] = Y\n",
    "        row['Start'] = start\n",
    "        row['End'] = end\n",
    "        \n",
    "        df = df.append(row, ignore_index=True)\n",
    "\n",
    "df.Trial = df.Trial.astype(int)\n",
    "                   \n",
    "df"
   ]
  },
  {
   "cell_type": "code",
   "execution_count": null,
   "metadata": {},
   "outputs": [],
   "source": [
    "asci_data = open(data, 'r')\n",
    "lines = []\n",
    "for line in asci_data:\n",
    "    lines.append(line)"
   ]
  },
  {
   "cell_type": "code",
   "execution_count": null,
   "metadata": {},
   "outputs": [],
   "source": [
    "for idx, line in enumerate(lines):\n",
    "    if 'TimeStamp' in line:\n",
    "        time_line = lines[idx-1].split()\n",
    "        break\n",
    "\n",
    "eyelink_time = int(time_line[1])\n",
    "eyelink_time\n",
    "\n",
    "unix_time_ml = int(float(time_line[-1]) * 1000)\n",
    "unix_time_ml\n",
    "\n",
    "diff = unix_time_ml - eyelink_time\n",
    "diff\n",
    "\n",
    "df['Start'] = (df.Start + diff) / 1000\n",
    "df['End'] = (df.End + diff) / 1000\n",
    "df.Start = df.Start.apply(lambda x: '%.3f' % x)\n",
    "df.End = df.End.apply(lambda x: '%.3f' % x)\n",
    "\n",
    "df"
   ]
  },
  {
   "cell_type": "code",
   "execution_count": null,
   "metadata": {},
   "outputs": [],
   "source": [
    "df.to_csv('../../data/el_data/el_events/' + dataName + '_events.csv', index = False)"
   ]
  },
  {
   "cell_type": "code",
   "execution_count": null,
   "metadata": {},
   "outputs": [],
   "source": [
    "df_all = pd.DataFrame(columns = ['X', 'Y', 'Time'])\n",
    "df_all\n",
    "\n",
    "x = []\n",
    "y = []\n",
    "time = []\n",
    "\n",
    "for i in range(len(data_raw)):\n",
    "    x = x + list(data_raw[i]['x'])\n",
    "    y = y + list(data_raw[i]['y'])\n",
    "    time = time + list(data_raw[i]['trackertime'])\n",
    "\n",
    "df_all.X = x\n",
    "df_all.Y = y\n",
    "df_all.Time = time\n",
    "\n",
    "# df_all\n",
    "df_all.Time = (df_all.Time + diff) / 1000\n",
    "# df_all.Time = df_all.Time.apply(lambda x: '%.3f' % x)\n",
    "\n",
    "df_all"
   ]
  },
  {
   "cell_type": "code",
   "execution_count": null,
   "metadata": {},
   "outputs": [],
   "source": [
    "df_all.to_csv('../../data/el_data/' + dataName + '.csv', index = False)"
   ]
  }
 ],
 "metadata": {
  "kernelspec": {
   "display_name": "Python 3",
   "language": "python",
   "name": "python3"
  },
  "language_info": {
   "codemirror_mode": {
    "name": "ipython",
    "version": 3
   },
   "file_extension": ".py",
   "mimetype": "text/x-python",
   "name": "python",
   "nbconvert_exporter": "python",
   "pygments_lexer": "ipython3",
   "version": "3.8.10"
  }
 },
 "nbformat": 4,
 "nbformat_minor": 4
}
